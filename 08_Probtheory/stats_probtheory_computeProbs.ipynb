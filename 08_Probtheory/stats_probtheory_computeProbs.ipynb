{
 "cells": [
  {
   "cell_type": "markdown",
   "metadata": {},
   "source": [
    "# COURSE: Master statistics and machine learning: Intuition, Math, code\n",
    "##### COURSE URL: udemy.com/course/statsml_x/?couponCode=202006 \n",
    "## SECTION: Probability theory\n",
    "### VIDEO: Compute probabilities\n",
    "#### TEACHER: Mike X Cohen, sincxpress.com"
   ]
  },
  {
   "cell_type": "code",
   "execution_count": 1,
   "metadata": {},
   "outputs": [],
   "source": [
    "# import libraries\n",
    "import matplotlib.pyplot as plt\n",
    "import numpy as np"
   ]
  },
  {
   "cell_type": "code",
   "execution_count": 2,
   "metadata": {},
   "outputs": [
    {
     "name": "stdout",
     "output_type": "stream",
     "text": [
      "[10. 20. 40. 30.]\n"
     ]
    }
   ],
   "source": [
    "## the basic formula\n",
    "\n",
    "# counts of the different events\n",
    "c = np.array([1, 2, 4, 3])\n",
    "\n",
    "# convert to probability (%)\n",
    "prob = 100*c / np.sum(c)\n",
    "print(prob)"
   ]
  },
  {
   "cell_type": "code",
   "execution_count": 3,
   "metadata": {},
   "outputs": [
    {
     "name": "stdout",
     "output_type": "stream",
     "text": [
      "[1. 1. 1. 1. 1. 1. 1. 1. 1. 1. 1. 1. 1. 1. 1. 1. 1. 1. 1. 1. 1. 1. 1. 1.\n",
      " 1. 1. 1. 1. 1. 1. 1. 1. 1. 1. 1. 1. 1. 1. 1. 1. 2. 2. 2. 2. 2. 2. 2. 2.\n",
      " 2. 2. 2. 2. 2. 2. 2. 2. 2. 2. 2. 2. 2. 2. 2. 2. 2. 2. 2. 2. 2. 2. 3. 3.\n",
      " 3. 3. 3. 3. 3. 3. 3. 3. 3. 3. 3. 3. 3. 3. 3. 3. 3. 3.]\n"
     ]
    }
   ],
   "source": [
    "## the example of drawing marbles from a jar\n",
    "\n",
    "# colored marble counts\n",
    "blue = 40\n",
    "yellow = 30\n",
    "orange = 20\n",
    "totalMarbs = blue + yellow + orange\n",
    "\n",
    "# put them all in a jar (stack horizontally\n",
    "#jar = np.hstack((1*np.ones(blue), 2*np.ones(yellow), 3*np.ones(orange)))\n",
    "# or \n",
    "jar = np.hstack((np.ones(blue), np.full(yellow, 2), np.full(orange, 3)))\n",
    "print(jar)"
   ]
  },
  {
   "cell_type": "code",
   "execution_count": 4,
   "metadata": {},
   "outputs": [],
   "source": [
    "# now we draw 500 marbles (with replacement)\n",
    "numDraws = 50\n",
    "drawColors = np.zeros(numDraws)\n",
    "rng = np.random.default_rng()\n",
    "\n",
    "for drawi in range(numDraws):\n",
    "    # generate a random integer (index of a marble in jar) to draw\n",
    "    randmarble = int(rng.uniform(low=0.0, high=1.0)*totalMarbs)\n",
    "    # store the color of that marble\n",
    "    drawColors[drawi] = jar[randmarble]\n",
    "\n",
    "# now we need to know the proportion of colors drawn\n",
    "propBlue = np.sum(drawColors == 1) / numDraws\n",
    "propYell = np.sum(drawColors == 2) / numDraws\n",
    "propOran = np.sum(drawColors == 3) / numDraws"
   ]
  },
  {
   "cell_type": "code",
   "execution_count": 5,
   "metadata": {},
   "outputs": [
    {
     "data": {
      "image/png": "[encoded data removed]",
      "text/plain": [
       "<Figure size 640x480 with 1 Axes>"
      ]
     },
     "metadata": {},
     "output_type": "display_data"
    }
   ],
   "source": [
    "# plot those against the theoretical probability\n",
    "plt.bar([1, 2, 3], [propBlue, propYell, propOran], label='Proportion')\n",
    "plt.plot([0.5, 1.5], [blue/totalMarbs, blue/totalMarbs], 'b', linewidth=3, label='Probability')\n",
    "plt.plot([1.5, 2.5], [yellow/totalMarbs, yellow/totalMarbs], 'b', linewidth=3)\n",
    "plt.plot([2.5, 3.5], [orange/totalMarbs, orange/totalMarbs], 'b', linewidth=3)\n",
    "\n",
    "plt.xticks([1, 2, 3], labels=('Blue', 'Yellow', 'Orange'))\n",
    "plt.xlabel('Marble color')\n",
    "plt.ylabel('Proportion / probability')\n",
    "plt.legend()\n",
    "plt.show()"
   ]
  }
 ],
 "metadata": {
  "kernelspec": {
   "display_name": "Python [conda env:sandbox]",
   "language": "python",
   "name": "conda-env-sandbox-py"
  },
  "language_info": {
   "codemirror_mode": {
    "name": "ipython",
    "version": 3
   },
   "file_extension": ".py",
   "mimetype": "text/x-python",
   "name": "python",
   "nbconvert_exporter": "python",
   "pygments_lexer": "ipython3",
   "version": "3.8.17"
  },
  "varInspector": {
   "cols": {
    "lenName": 16,
    "lenType": 16,
    "lenVar": 40
   },
   "kernels_config": {
    "python": {
     "delete_cmd_postfix": "",
     "delete_cmd_prefix": "del ",
     "library": "var_list.py",
     "varRefreshCmd": "print(var_dic_list())"
    },
    "r": {
     "delete_cmd_postfix": ") ",
     "delete_cmd_prefix": "rm(",
     "library": "var_list.r",
     "varRefreshCmd": "cat(var_dic_list()) "
    }
   },
   "types_to_exclude": [
    "module",
    "function",
    "builtin_function_or_method",
    "instance",
    "_Feature"
   ],
   "window_display": false
  }
 },
 "nbformat": 4,
 "nbformat_minor": 4
}
