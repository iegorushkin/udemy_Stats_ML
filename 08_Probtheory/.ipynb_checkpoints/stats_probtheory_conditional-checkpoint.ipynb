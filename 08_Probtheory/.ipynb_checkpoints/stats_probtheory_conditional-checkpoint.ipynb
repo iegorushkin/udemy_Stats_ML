{
 "cells": [
  {
   "cell_type": "markdown",
   "metadata": {},
   "source": [
    "# COURSE: Master statistics and machine learning: Intuition, Math, code\n",
    "##### COURSE URL: udemy.com/course/statsml_x/?couponCode=202006 \n",
    "## SECTION: Probability theory\n",
    "### VIDEO: Conditional probability\n",
    "#### TEACHER: Mike X Cohen, sincxpress.com"
   ]
  },
  {
   "cell_type": "code",
   "execution_count": 1,
   "metadata": {},
   "outputs": [],
   "source": [
    "# import libraries\n",
    "import matplotlib.pyplot as plt\n",
    "import numpy as np"
   ]
  },
  {
   "cell_type": "code",
   "execution_count": null,
   "metadata": {},
   "outputs": [],
   "source": [
    "## generate two long-spike time series\n",
    "\n",
    "N = 10000\n",
    "spikeDur = 10  # a.u. but must be an even number\n",
    "spikeNumA = 0.01 # in proportion of total number of points\n",
    "spikeNumB = 0.05 # in proportion of total number of points\n",
    "\n",
    "# initialize to zeros\n",
    "spike_tsA = np.zeros(N)\n",
    "spike_tsB = np.zeros(N)"
   ]
  },
  {
   "cell_type": "code",
   "execution_count": 2,
   "metadata": {},
   "outputs": [],
   "source": [
    "# populate time series A\n",
    "# индексы центров пиков; значения [0, N-1), \n",
    "# количество - N умножить на желаемый процент\n",
    "spiketimesA = np.random.randint(0, N, int(N*spikeNumA))\n",
    "\n",
    "# flesh out spikes (loop per spike)\n",
    "for spikei in range(len(spiketimesA)):\n",
    "    \n",
    "    # find boundaries\n",
    "    bnd_pre = int(max(0, spiketimesA[spikei] - spikeDur/2))\n",
    "    bnd_pst = int(min(N-1, spiketimesA[spikei] + spikeDur/2))\n",
    "    \n",
    "    # fill in with ones\n",
    "    spike_tsA[bnd_pre:bnd_pst+1] = 1"
   ]
  },
  {
   "cell_type": "code",
   "execution_count": 3,
   "metadata": {},
   "outputs": [],
   "source": [
    "# repeat for time series B\n",
    "spiketimesB = np.random.randint(0, N, int(N*spikeNumB))\n",
    "# spiketimesB[:len(spiketimesA)] = spiketimesA # induce strong conditional probability\n",
    "\n",
    "# flesh out spikes (loop per spike)\n",
    "for spikei in range(len(spiketimesB)):\n",
    "    \n",
    "    # find boundaries\n",
    "    bnd_pre = int(max(0, spiketimesB[spikei] - spikeDur/2))\n",
    "    bnd_pst = int(min(N-1, spiketimesB[spikei] + spikeDur/2))\n",
    "    \n",
    "    # fill in with ones\n",
    "    spike_tsB[bnd_pre:bnd_pst+1] = 1"
   ]
  },
  {
   "cell_type": "code",
   "execution_count": 4,
   "metadata": {},
   "outputs": [
    {
     "data": {
      "image/png": "[encoded data removed]",
      "text/plain": [
       "<Figure size 432x288 with 1 Axes>"
      ]
     },
     "metadata": {
      "needs_background": "light"
     },
     "output_type": "display_data"
    }
   ],
   "source": [
    "## let's see what they look like\n",
    "\n",
    "plt.plot(range(N), spike_tsA, range(N), spike_tsB)\n",
    "plt.ylim([0, 1.2])\n",
    "# plt.xlim([2000,2500])\n",
    "plt.show()"
   ]
  },
  {
   "cell_type": "code",
   "execution_count": 5,
   "metadata": {},
   "outputs": [
    {
     "name": "stdout",
     "output_type": "stream",
     "text": [
      "0.1063 0.4267 0.0441\n"
     ]
    }
   ],
   "source": [
    "## compute their probabilities and intersection\n",
    "\n",
    "# probabilities\n",
    "probA = np.sum(spike_tsA == 1) / N\n",
    "probB = np.mean(spike_tsB)\n",
    "# Обе эти записи эквиваленты для текущего набора данных!\n",
    "\n",
    "# joint probability\n",
    "# Вероятность того, что произошли события А и Б\n",
    "probAB = np.mean((spike_tsA + spike_tsB) == 2)\n",
    "# эквивалентно:\n",
    "# probAB = np.sum((spike_tsA + spike_tsB) == 2) / N\n",
    "\n",
    "print(probA, probB, probAB)"
   ]
  },
  {
   "cell_type": "code",
   "execution_count": 6,
   "metadata": {},
   "outputs": [
    {
     "name": "stdout",
     "output_type": "stream",
     "text": [
      "P(A) = 0.1063\n",
      "P(A|B) = 0.103351\n",
      "P(B) = 0.4267\n",
      "P(B|A) = 0.414864\n"
     ]
    }
   ],
   "source": [
    "## compute the conditional probabilities\n",
    "\n",
    "# p(A|B)\n",
    "pAgivenB = probAB/probB\n",
    "\n",
    "# p(B|A)\n",
    "pBgivenA = probAB/probA\n",
    "\n",
    "# print a little report\n",
    "print('P(A) = %g'%probA)\n",
    "print('P(A|B) = %g'%pAgivenB)\n",
    "print('P(B) = %g'%probB)\n",
    "print('P(B|A) = %g'%pBgivenA)"
   ]
  }
 ],
 "metadata": {
  "kernelspec": {
   "display_name": "Python [conda env:sandbox] *",
   "language": "python",
   "name": "conda-env-sandbox-py"
  },
  "language_info": {
   "codemirror_mode": {
    "name": "ipython",
    "version": 3
   },
   "file_extension": ".py",
   "mimetype": "text/x-python",
   "name": "python",
   "nbconvert_exporter": "python",
   "pygments_lexer": "ipython3",
   "version": "3.8.10"
  },
  "varInspector": {
   "cols": {
    "lenName": 16,
    "lenType": 16,
    "lenVar": 40
   },
   "kernels_config": {
    "python": {
     "delete_cmd_postfix": "",
     "delete_cmd_prefix": "del ",
     "library": "var_list.py",
     "varRefreshCmd": "print(var_dic_list())"
    },
    "r": {
     "delete_cmd_postfix": ") ",
     "delete_cmd_prefix": "rm(",
     "library": "var_list.r",
     "varRefreshCmd": "cat(var_dic_list()) "
    }
   },
   "types_to_exclude": [
    "module",
    "function",
    "builtin_function_or_method",
    "instance",
    "_Feature"
   ],
   "window_display": true
  }
 },
 "nbformat": 4,
 "nbformat_minor": 2
}
