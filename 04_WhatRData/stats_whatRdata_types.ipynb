{
 "cells": [
  {
   "cell_type": "markdown",
   "metadata": {},
   "source": [
    "# COURSE: Master statistics and machine learning: intuition, math, code\n",
    "##### COURSE URL: udemy.com/course/statsml_x/?couponCode=202006 \n",
    "## SECTION: What are (is?) data?\n",
    "### VIDEO: Code: Representing types of data on computers\n",
    "#### TEACHER: Mike X Cohen, sincxpress.com\n"
   ]
  },
  {
   "cell_type": "code",
   "execution_count": 4,
   "metadata": {},
   "outputs": [],
   "source": [
    "## create variables of different types (classes)\n",
    "\n",
    "# data numerical (here as a list)\n",
    "numdata = [1, 7, 17, 1717]\n",
    "\n",
    "# character / string\n",
    "chardata = 'xyz'\n",
    "\n",
    "# double-quotes also fine\n",
    "strdata = \"x\"\n",
    "\n",
    "# boolean (aka logical)\n",
    "logitdata = True # notice capitalization!\n",
    "\n",
    "# a list can be used like a MATLAB cell\n",
    "listdata = [[3, 4, 34], 'hello', 4]\n",
    "\n",
    "# dict (kindof similar to MATLAB structure)\n",
    "dictdata = dict()\n",
    "dictdata['name'] = 'Mike'\n",
    "dictdata['age'] = 25\n",
    "dictdata['occupation'] = 'Nerdoscientist'"
   ]
  },
  {
   "cell_type": "code",
   "execution_count": 5,
   "metadata": {},
   "outputs": [
    {
     "name": "stdout",
     "output_type": "stream",
     "text": [
      "Variable    Type    Data/Info\n",
      "-----------------------------\n",
      "chardata    str     xyz\n",
      "dictdata    dict    n=3\n",
      "listdata    list    n=3\n",
      "logitdata   bool    True\n",
      "numdata     list    n=4\n",
      "strdata     str     x\n"
     ]
    }
   ],
   "source": [
    "# let's see what the workspace looks like\n",
    "%whos"
   ]
  },
  {
   "cell_type": "code",
   "execution_count": 3,
   "metadata": {},
   "outputs": [],
   "source": [
    "# clear the Python workspace\n",
    "%reset -sf"
   ]
  }
 ],
 "metadata": {
  "kernelspec": {
   "display_name": "Python [conda env:sandbox] *",
   "language": "python",
   "name": "conda-env-sandbox-py"
  },
  "language_info": {
   "codemirror_mode": {
    "name": "ipython",
    "version": 3
   },
   "file_extension": ".py",
   "mimetype": "text/x-python",
   "name": "python",
   "nbconvert_exporter": "python",
   "pygments_lexer": "ipython3",
   "version": "3.8.10"
  },
  "varInspector": {
   "cols": {
    "lenName": 16,
    "lenType": 16,
    "lenVar": 40
   },
   "kernels_config": {
    "python": {
     "delete_cmd_postfix": "",
     "delete_cmd_prefix": "del ",
     "library": "var_list.py",
     "varRefreshCmd": "print(var_dic_list())"
    },
    "r": {
     "delete_cmd_postfix": ") ",
     "delete_cmd_prefix": "rm(",
     "library": "var_list.r",
     "varRefreshCmd": "cat(var_dic_list()) "
    }
   },
   "types_to_exclude": [
    "module",
    "function",
    "builtin_function_or_method",
    "instance",
    "_Feature"
   ],
   "window_display": false
  }
 },
 "nbformat": 4,
 "nbformat_minor": 2
}
