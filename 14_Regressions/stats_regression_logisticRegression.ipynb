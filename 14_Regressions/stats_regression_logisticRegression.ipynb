{
 "cells": [
  {
   "cell_type": "markdown",
   "metadata": {},
   "source": [
    "# COURSE: Master statistics and machine learning: Intuition, Math, code\n",
    "##### COURSE URL: udemy.com/course/statsml_x/?couponCode=202006 \n",
    "## SECTION: Regression\n",
    "### VIDEO: Logistic regression\n",
    "#### TEACHER: Mike X Cohen, sincxpress.com"
   ]
  },
  {
   "cell_type": "code",
   "execution_count": 1,
   "metadata": {},
   "outputs": [],
   "source": [
    "import numpy as np\n",
    "import matplotlib.pyplot as plt\n",
    "from sklearn.linear_model import LogisticRegression"
   ]
  },
  {
   "cell_type": "code",
   "execution_count": 2,
   "metadata": {},
   "outputs": [
    {
     "data": {
      "image/png": "[encoded data removed]",
      "text/plain": [
       "<Figure size 432x288 with 1 Axes>"
      ]
     },
     "metadata": {
      "needs_background": "light"
     },
     "output_type": "display_data"
    }
   ],
   "source": [
    "## generate the data\n",
    "\n",
    "exam_outcome = [0, 0, 0, 0, 0, 0, 0, 0, 0, 0, 1, 1, 1, 1, 1, 1, 1, 1, 1, 1]\n",
    "study_hours  = [7.9, 7.9, 2.8, 5.4, 6.1, 4.5, 6.9, 2.3, 1.9, 1, 3.1, 5.7,\n",
    "                5.6, 4.7, 4.2, 2, 7.7, 6.5, 5.1, 3.7]\n",
    "sleep_hours  = [4.4, 5.2, 7.5, 4.6, 5.5, 6.1, 6.6, 3.1, 5.9, 3.2, 7.5, 7.8,\n",
    "                6.1, 5.4, 10.5, 8.2, 7.2, 7.2, 5.9, 7.9]\n",
    "n = len(exam_outcome)\n",
    "\n",
    "# and plot them\n",
    "# loop for drawing lines between squares\n",
    "for i in range(n):\n",
    "    plt.plot([exam_outcome[i] - 0.05, exam_outcome[i] + 0.05],\n",
    "             [study_hours[i], sleep_hours[i]], color=[0.7, 0.7, 0.7])\n",
    "plt.plot(exam_outcome - 0.05*np.ones(n), study_hours, 'ks', markerfacecolor=[1, 0.8, 1],\n",
    "         label='Study')\n",
    "plt.plot(exam_outcome + 0.05*np.ones(n), sleep_hours, 'ks', markerfacecolor=[0.39, 1, 1],\n",
    "         label='Sleep')\n",
    "plt.xticks([0, 1], labels=('Fail', 'Pass'))\n",
    "plt.xlim([-0.5, 1.5])\n",
    "plt.ylabel('Hours sleep or study')\n",
    "plt.legend()\n",
    "plt.show()"
   ]
  },
  {
   "cell_type": "code",
   "execution_count": 3,
   "metadata": {},
   "outputs": [
    {
     "name": "stdout",
     "output_type": "stream",
     "text": [
      "[-7.1649154]\n",
      "[[0.10794965 1.05178489]]\n"
     ]
    }
   ],
   "source": [
    "## now for the logistic regression\n",
    "\n",
    "# create a model\n",
    "logregmodel = LogisticRegression(solver='newton-cg')#'liblinear'\n",
    "\n",
    "# create the design matrix\n",
    "# notice: no explicitly stated intercept term\n",
    "desmat = np.vstack((study_hours, sleep_hours)).T\n",
    "\n",
    "# fitting of the model happend here\n",
    "logregmodel.fit(desmat, np.array(exam_outcome))\n",
    "print(logregmodel.intercept_)\n",
    "print(logregmodel.coef_)"
   ]
  },
  {
   "cell_type": "code",
   "execution_count": 4,
   "metadata": {},
   "outputs": [
    {
     "name": "stdout",
     "output_type": "stream",
     "text": [
      "Let's compare the model's predictions and the observed results\n",
      "Predictions:\n",
      "[0 0 1 0 0 0 1 0 0 0 1 1 0 0 1 1 1 1 0 1]\n",
      "Observed results:\n",
      "[0 0 0 0 0 0 0 0 0 0 1 1 1 1 1 1 1 1 1 1]\n",
      "\n",
      "The probabilities that the value belongs to 0 and 1\n",
      "[[0.84346776 0.15653224]\n",
      " [0.69906128 0.30093872]\n",
      " [0.26391272 0.73608728]\n",
      " [0.85116615 0.14883385]\n",
      " [0.67296049 0.32703951]\n",
      " [0.56543607 0.43456393]\n",
      " [0.37245072 0.62754928]\n",
      " [0.97481743 0.02518257]\n",
      " [0.68011062 0.31988938]\n",
      " [0.9756662  0.0243338 ]\n",
      " [0.25766981 0.74233019]\n",
      " [0.16052598 0.83947402]\n",
      " [0.53606465 0.46393535]\n",
      " [0.72669404 0.27330596]\n",
      " [0.01296804 0.98703196]\n",
      " [0.15767633 0.84232367]\n",
      " [0.22458431 0.77541569]\n",
      " [0.24794388 0.75205612]\n",
      " [0.60081002 0.39918998]\n",
      " [0.17601271 0.82398729]]\n",
      "\n",
      "Overall model score: 0.75\n"
     ]
    }
   ],
   "source": [
    "# compute predictions and accuracy\n",
    "\n",
    "predvals = logregmodel.predict(desmat) # class labels\n",
    "predvalsP = logregmodel.predict_proba(desmat) # probability values\n",
    "\n",
    "print(\"Let's compare the model's predictions and the observed results\")\n",
    "print(f\"Predictions:\\n{predvals}\")\n",
    "print(f\"Observed results:\\n{np.array(exam_outcome)}\")\n",
    "\n",
    "print(\"\\nThe probabilities that the value belongs to 0 and 1\")\n",
    "print(predvalsP)\n",
    "\n",
    "print(f\"\\nOverall model score: {logregmodel.score(desmat, np.array(exam_outcome))}\")"
   ]
  },
  {
   "cell_type": "code",
   "execution_count": 5,
   "metadata": {},
   "outputs": [
    {
     "data": {
      "image/png": "[encoded data removed]",
      "text/plain": [
       "<Figure size 720x432 with 1 Axes>"
      ]
     },
     "metadata": {
      "needs_background": "light"
     },
     "output_type": "display_data"
    }
   ],
   "source": [
    "# plotting\n",
    "\n",
    "fig, ax = plt.subplots(figsize=(10, 6))\n",
    "\n",
    "ax.plot(predvalsP[:, 1], 'ks')\n",
    "ax.plot([0, 19], [0.5, 0.5], 'b--')\n",
    "ax.plot([9.5, 9.5], [0, 1], 'b--')\n",
    "ax.set_xticks(np.arange(20))\n",
    "ax.set_xlabel('Individual')\n",
    "ax.set_ylabel('p(pass)')\n",
    "ax.set_xlim([-0.5, 19.5])\n",
    "ax.set_ylim([0, 1])\n",
    "plt.show()"
   ]
  }
 ],
 "metadata": {
  "kernelspec": {
   "display_name": "Python 3 (ipykernel)",
   "language": "python",
   "name": "python3"
  },
  "language_info": {
   "codemirror_mode": {
    "name": "ipython",
    "version": 3
   },
   "file_extension": ".py",
   "mimetype": "text/x-python",
   "name": "python",
   "nbconvert_exporter": "python",
   "pygments_lexer": "ipython3",
   "version": "3.8.12"
  },
  "varInspector": {
   "cols": {
    "lenName": 16,
    "lenType": 16,
    "lenVar": 40
   },
   "kernels_config": {
    "python": {
     "delete_cmd_postfix": "",
     "delete_cmd_prefix": "del ",
     "library": "var_list.py",
     "varRefreshCmd": "print(var_dic_list())"
    },
    "r": {
     "delete_cmd_postfix": ") ",
     "delete_cmd_prefix": "rm(",
     "library": "var_list.r",
     "varRefreshCmd": "cat(var_dic_list()) "
    }
   },
   "types_to_exclude": [
    "module",
    "function",
    "builtin_function_or_method",
    "instance",
    "_Feature"
   ],
   "window_display": false
  }
 },
 "nbformat": 4,
 "nbformat_minor": 2
}
