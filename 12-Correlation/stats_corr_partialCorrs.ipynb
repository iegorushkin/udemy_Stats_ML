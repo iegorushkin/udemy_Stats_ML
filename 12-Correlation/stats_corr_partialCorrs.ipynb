{
 "cells": [
  {
   "cell_type": "markdown",
   "metadata": {},
   "source": [
    "# COURSE: Master statistics and machine learning: Intuition, Math, code\n",
    "##### COURSE URL: udemy.com/course/statsml_x/?couponCode=202006 \n",
    "## SECTION: Correlation\n",
    "### VIDEO: Partial correlations\n",
    "#### TEACHER: Mike X Cohen, sincxpress.com"
   ]
  },
  {
   "cell_type": "code",
   "execution_count": 1,
   "metadata": {
    "tags": []
   },
   "outputs": [],
   "source": [
    "# import libraries\n",
    "import matplotlib.pyplot as plt\n",
    "import scipy.stats as stats\n",
    "import numpy as np\n",
    "import pandas as pd"
   ]
  },
  {
   "cell_type": "code",
   "execution_count": 2,
   "metadata": {
    "tags": []
   },
   "outputs": [],
   "source": [
    "# I'm using pingouin for partial correlations.\n",
    "# You might need to install it, e.g., using the line below.\n",
    "# This needs to be run only once per install.\n",
    "# conda install -c conda-forge pingouin\n",
    "import pingouin as pg"
   ]
  },
  {
   "cell_type": "code",
   "execution_count": 3,
   "metadata": {
    "tags": []
   },
   "outputs": [
    {
     "name": "stdout",
     "output_type": "stream",
     "text": [
      "-0.07647191129018778\n",
      "0.5461186812727504\n"
     ]
    }
   ],
   "source": [
    "## the example from the video\n",
    "\n",
    "# raw correlations\n",
    "rmg = 0.7\n",
    "rsg = 0.8\n",
    "rms = 0.9\n",
    "\n",
    "# partial correlations\n",
    "rho_mg_s = (rmg - rsg*rms) / (np.sqrt(1 - rsg**2)*np.sqrt(1 - rms**2))\n",
    "rho_sg_m = (rsg - rmg*rms) / (np.sqrt(1 - rmg**2)*np.sqrt(1 - rms**2))\n",
    "\n",
    "print(rho_mg_s)\n",
    "print(rho_sg_m)"
   ]
  },
  {
   "cell_type": "code",
   "execution_count": 4,
   "metadata": {
    "tags": []
   },
   "outputs": [
    {
     "name": "stdout",
     "output_type": "stream",
     "text": [
      "          x1        x2        x3\n",
      "x1  1.000000  0.920678  0.945376\n",
      "x2  0.920678  1.000000  0.870636\n",
      "x3  0.945376  0.870636  1.000000\n",
      "0.9206775434576027\n",
      " \n",
      "          x1        x2        x3\n",
      "x1  1.000000  0.608626  0.748919\n",
      "x2  0.608626  1.000000  0.001962\n",
      "x3  0.748919  0.001962  1.000000\n",
      "0.6086263623293506\n"
     ]
    }
   ],
   "source": [
    "## now for datasets\n",
    "\n",
    "rng = np.random.default_rng()\n",
    "\n",
    "N = 76\n",
    "\n",
    "# correlated datasets\n",
    "x1 = np.linspace(1, 10, N) + rng.standard_normal(size=N)\n",
    "x2 = x1 + rng.standard_normal(size=N)\n",
    "x3 = x1 + rng.standard_normal(size=N)\n",
    "\n",
    "# let's convert these data to a pandas frame\n",
    "df = pd.DataFrame()\n",
    "df['x1'] = x1\n",
    "df['x2'] = x2\n",
    "df['x3'] = x3\n",
    "\n",
    "# compute the \"raw\" correlation matrix\n",
    "cormatR = df.corr()\n",
    "print(cormatR)\n",
    "# print out one value\n",
    "print(cormatR.values[1, 0])\n",
    "\n",
    "print(' ')\n",
    "\n",
    "# compute the partial correlation matrix\n",
    "partialCorMat = df.pcorr()\n",
    "print(partialCorMat)\n",
    "# print out one value\n",
    "print(partialCorMat.values[1, 0])"
   ]
  },
  {
   "cell_type": "code",
   "execution_count": 5,
   "metadata": {
    "tags": []
   },
   "outputs": [
    {
     "name": "stdout",
     "output_type": "stream",
     "text": [
      " \n",
      "          n         r          CI95%     p-val\n",
      "pearson  76  0.001962  [-0.23, 0.23]  0.986668\n"
     ]
    }
   ],
   "source": [
    "# partial correlation\n",
    "pc = pg.partial_corr(df, x='x3', y='x2', covar='x1')\n",
    "print(' ')\n",
    "print(pc)"
   ]
  },
  {
   "cell_type": "code",
   "execution_count": 6,
   "metadata": {
    "tags": []
   },
   "outputs": [
    {
     "data": {
      "image/png": "[encoded data removed]",
      "text/plain": [
       "<Figure size 1000x600 with 2 Axes>"
      ]
     },
     "metadata": {},
     "output_type": "display_data"
    }
   ],
   "source": [
    "## visualize the matrices\n",
    "\n",
    "fig, ax = plt.subplots(1, 2, figsize=(10, 6))\n",
    "\n",
    "# raw correlations\n",
    "ax[0].imshow(cormatR.values, vmin=-1, vmax=1)\n",
    "ax[0].set_xticks(range(3))\n",
    "ax[0].set_xticklabels(['1', '2', '3'])\n",
    "ax[0].set_yticks(range(3))\n",
    "ax[0].set_yticklabels(['1', '2', '3'])\n",
    "# add text \n",
    "for i in range(3):\n",
    "    for j in range(3):\n",
    "        ax[0].text(i, j, np.round(cormatR.values[i, j], 2), horizontalalignment='center')\n",
    "        \n",
    "# partial correlations\n",
    "ax[1].imshow(partialCorMat.values, vmin=-1, vmax=1)\n",
    "ax[1].set_xticks(range(3))\n",
    "ax[1].set_xticklabels(['1', '2', '3'])\n",
    "ax[1].set_yticks(range(3))\n",
    "ax[1].set_yticklabels(['1', '2', '3'])\n",
    "# add text \n",
    "for i in range(3):\n",
    "    for j in range(3):\n",
    "        ax[1].text(i, j, np.round(partialCorMat.values[i, j], 2), horizontalalignment='center')\n",
    "\n",
    "plt.show()"
   ]
  }
 ],
 "metadata": {
  "kernelspec": {
   "display_name": "Python [conda env:sandbox]",
   "language": "python",
   "name": "conda-env-sandbox-py"
  },
  "language_info": {
   "codemirror_mode": {
    "name": "ipython",
    "version": 3
   },
   "file_extension": ".py",
   "mimetype": "text/x-python",
   "name": "python",
   "nbconvert_exporter": "python",
   "pygments_lexer": "ipython3",
   "version": "3.10.13"
  },
  "varInspector": {
   "cols": {
    "lenName": 16,
    "lenType": 16,
    "lenVar": 40
   },
   "kernels_config": {
    "python": {
     "delete_cmd_postfix": "",
     "delete_cmd_prefix": "del ",
     "library": "var_list.py",
     "varRefreshCmd": "print(var_dic_list())"
    },
    "r": {
     "delete_cmd_postfix": ") ",
     "delete_cmd_prefix": "rm(",
     "library": "var_list.r",
     "varRefreshCmd": "cat(var_dic_list()) "
    }
   },
   "types_to_exclude": [
    "module",
    "function",
    "builtin_function_or_method",
    "instance",
    "_Feature"
   ],
   "window_display": false
  }
 },
 "nbformat": 4,
 "nbformat_minor": 4
}
