{
 "cells": [
  {
   "cell_type": "markdown",
   "metadata": {},
   "source": [
    "# COURSE: Master statistics and machine learning: Intuition, Math, code\n",
    "##### COURSE URL: udemy.com/course/statsml_x/?couponCode=202006 \n",
    "## SECTION: ANOVA\n",
    "### VIDEO: Two-way mixed-effects ANOVA\n",
    "#### TEACHER: Mike X Cohen, sincxpress.com"
   ]
  },
  {
   "cell_type": "code",
   "execution_count": 2,
   "metadata": {},
   "outputs": [],
   "source": [
    "# import libraries\n",
    "import numpy as np\n",
    "import matplotlib.pyplot as plt\n",
    "import pingouin as pg\n",
    "import pandas as pd\n",
    "import seaborn as sns"
   ]
  },
  {
   "cell_type": "code",
   "execution_count": 4,
   "metadata": {},
   "outputs": [
    {
     "data": {
      "text/html": [
       "<div>\n",
       "<style scoped>\n",
       "    .dataframe tbody tr th:only-of-type {\n",
       "        vertical-align: middle;\n",
       "    }\n",
       "\n",
       "    .dataframe tbody tr th {\n",
       "        vertical-align: top;\n",
       "    }\n",
       "\n",
       "    .dataframe thead th {\n",
       "        text-align: right;\n",
       "    }\n",
       "</style>\n",
       "<table border=\"1\" class=\"dataframe\">\n",
       "  <thead>\n",
       "    <tr style=\"text-align: right;\">\n",
       "      <th></th>\n",
       "      <th>TheData</th>\n",
       "      <th>Group</th>\n",
       "      <th>TimePoint</th>\n",
       "      <th>Subject</th>\n",
       "    </tr>\n",
       "  </thead>\n",
       "  <tbody>\n",
       "    <tr>\n",
       "      <th>0</th>\n",
       "      <td>13.0</td>\n",
       "      <td>1</td>\n",
       "      <td>1</td>\n",
       "      <td>0</td>\n",
       "    </tr>\n",
       "    <tr>\n",
       "      <th>1</th>\n",
       "      <td>15.0</td>\n",
       "      <td>1</td>\n",
       "      <td>1</td>\n",
       "      <td>1</td>\n",
       "    </tr>\n",
       "    <tr>\n",
       "      <th>2</th>\n",
       "      <td>13.0</td>\n",
       "      <td>1</td>\n",
       "      <td>1</td>\n",
       "      <td>2</td>\n",
       "    </tr>\n",
       "    <tr>\n",
       "      <th>3</th>\n",
       "      <td>16.0</td>\n",
       "      <td>1</td>\n",
       "      <td>1</td>\n",
       "      <td>3</td>\n",
       "    </tr>\n",
       "    <tr>\n",
       "      <th>4</th>\n",
       "      <td>17.0</td>\n",
       "      <td>1</td>\n",
       "      <td>1</td>\n",
       "      <td>4</td>\n",
       "    </tr>\n",
       "    <tr>\n",
       "      <th>...</th>\n",
       "      <td>...</td>\n",
       "      <td>...</td>\n",
       "      <td>...</td>\n",
       "      <td>...</td>\n",
       "    </tr>\n",
       "    <tr>\n",
       "      <th>130</th>\n",
       "      <td>16.0</td>\n",
       "      <td>3</td>\n",
       "      <td>3</td>\n",
       "      <td>40</td>\n",
       "    </tr>\n",
       "    <tr>\n",
       "      <th>131</th>\n",
       "      <td>14.0</td>\n",
       "      <td>3</td>\n",
       "      <td>3</td>\n",
       "      <td>41</td>\n",
       "    </tr>\n",
       "    <tr>\n",
       "      <th>132</th>\n",
       "      <td>15.0</td>\n",
       "      <td>3</td>\n",
       "      <td>3</td>\n",
       "      <td>42</td>\n",
       "    </tr>\n",
       "    <tr>\n",
       "      <th>133</th>\n",
       "      <td>15.0</td>\n",
       "      <td>3</td>\n",
       "      <td>3</td>\n",
       "      <td>43</td>\n",
       "    </tr>\n",
       "    <tr>\n",
       "      <th>134</th>\n",
       "      <td>18.0</td>\n",
       "      <td>3</td>\n",
       "      <td>3</td>\n",
       "      <td>44</td>\n",
       "    </tr>\n",
       "  </tbody>\n",
       "</table>\n",
       "<p>135 rows × 4 columns</p>\n",
       "</div>"
      ],
      "text/plain": [
       "     TheData Group TimePoint Subject\n",
       "0       13.0     1         1       0\n",
       "1       15.0     1         1       1\n",
       "2       13.0     1         1       2\n",
       "3       16.0     1         1       3\n",
       "4       17.0     1         1       4\n",
       "..       ...   ...       ...     ...\n",
       "130     16.0     3         3      40\n",
       "131     14.0     3         3      41\n",
       "132     15.0     3         3      42\n",
       "133     15.0     3         3      43\n",
       "134     18.0     3         3      44\n",
       "\n",
       "[135 rows x 4 columns]"
      ]
     },
     "execution_count": 4,
     "metadata": {},
     "output_type": "execute_result"
    }
   ],
   "source": [
    "## the data and group labels\n",
    "\n",
    "data = np.loadtxt(open(\"TwoWayMixedANOVA_data.csv\"), delimiter=\",\")\n",
    "\n",
    "timepoint = ['1']*45 + ['2']*45 + ['3']*45\n",
    "groups = ['1']*15 + ['2']*15 + ['3']*15\n",
    "s = []\n",
    "for i in range(45):\n",
    "    s += [str(i)]\n",
    "\n",
    "# # convert to pandas\n",
    "# np.matrix.flatten(data, 'F') собирает матрицу data в вектор;\n",
    "# к концу строки матрицы добавляется следующая, следующая и так далее.\n",
    "df = pd.DataFrame(data=np.matrix.flatten(data, 'F'), columns=['TheData'])\n",
    "# np.tile(A, reps) - construct an array by repeating A the number of times given by reps\n",
    "df['Group'] = np.tile(groups, 3)\n",
    "df['TimePoint'] = timepoint\n",
    "df['Subject'] = np.tile(s, 3)\n",
    "\n",
    "# показывать все столбцы и все строки\n",
    "# pd.set_option(\"display.max_rows\", None, \"display.max_columns\", None) \n",
    "df\n",
    "\n",
    "# Для понимания, данные можно интерпретировать как:\n",
    "# 45 студентов (Subject) из 3 групп (Group) сдали экзамены по 3 предметам (TimePoint)\n",
    "# два фактора, один фактор с повторными измерениями одних и теж же субъектов-студентов из разных групп\n",
    "# -> two-way mixed-effects ANOVA"
   ]
  },
  {
   "cell_type": "code",
   "execution_count": 3,
   "metadata": {},
   "outputs": [
    {
     "data": {
      "text/html": [
       "<div>\n",
       "<style scoped>\n",
       "    .dataframe tbody tr th:only-of-type {\n",
       "        vertical-align: middle;\n",
       "    }\n",
       "\n",
       "    .dataframe tbody tr th {\n",
       "        vertical-align: top;\n",
       "    }\n",
       "\n",
       "    .dataframe thead th {\n",
       "        text-align: right;\n",
       "    }\n",
       "</style>\n",
       "<table border=\"1\" class=\"dataframe\">\n",
       "  <thead>\n",
       "    <tr style=\"text-align: right;\">\n",
       "      <th></th>\n",
       "      <th>Source</th>\n",
       "      <th>SS</th>\n",
       "      <th>DF1</th>\n",
       "      <th>DF2</th>\n",
       "      <th>MS</th>\n",
       "      <th>F</th>\n",
       "      <th>p-unc</th>\n",
       "      <th>np2</th>\n",
       "      <th>eps</th>\n",
       "    </tr>\n",
       "  </thead>\n",
       "  <tbody>\n",
       "    <tr>\n",
       "      <th>0</th>\n",
       "      <td>Group</td>\n",
       "      <td>40.311111</td>\n",
       "      <td>2</td>\n",
       "      <td>42</td>\n",
       "      <td>20.155556</td>\n",
       "      <td>2.446942</td>\n",
       "      <td>9.880857e-02</td>\n",
       "      <td>0.104361</td>\n",
       "      <td>NaN</td>\n",
       "    </tr>\n",
       "    <tr>\n",
       "      <th>1</th>\n",
       "      <td>TimePoint</td>\n",
       "      <td>69.644444</td>\n",
       "      <td>2</td>\n",
       "      <td>84</td>\n",
       "      <td>34.822222</td>\n",
       "      <td>31.147184</td>\n",
       "      <td>7.588754e-11</td>\n",
       "      <td>0.425815</td>\n",
       "      <td>0.901879</td>\n",
       "    </tr>\n",
       "    <tr>\n",
       "      <th>2</th>\n",
       "      <td>Interaction</td>\n",
       "      <td>57.777778</td>\n",
       "      <td>4</td>\n",
       "      <td>84</td>\n",
       "      <td>14.444444</td>\n",
       "      <td>12.920019</td>\n",
       "      <td>3.051011e-08</td>\n",
       "      <td>0.380897</td>\n",
       "      <td>NaN</td>\n",
       "    </tr>\n",
       "  </tbody>\n",
       "</table>\n",
       "</div>"
      ],
      "text/plain": [
       "        Source         SS  DF1  DF2         MS          F         p-unc  \\\n",
       "0        Group  40.311111    2   42  20.155556   2.446942  9.880857e-02   \n",
       "1    TimePoint  69.644444    2   84  34.822222  31.147184  7.588754e-11   \n",
       "2  Interaction  57.777778    4   84  14.444444  12.920019  3.051011e-08   \n",
       "\n",
       "        np2       eps  \n",
       "0  0.104361       NaN  \n",
       "1  0.425815  0.901879  \n",
       "2  0.380897       NaN  "
      ]
     },
     "execution_count": 3,
     "metadata": {},
     "output_type": "execute_result"
    }
   ],
   "source": [
    "# DataFrame, dependent variable, between group factor, within-subject factor (repeated measurements),\n",
    "# the between-subject identifier                           \n",
    "pg.mixed_anova(data=df, dv='TheData', between='Group', within='TimePoint', subject='Subject')"
   ]
  },
  {
   "cell_type": "code",
   "execution_count": 4,
   "metadata": {},
   "outputs": [
    {
     "data": {
      "text/plain": [
       "<AxesSubplot:xlabel='TimePoint', ylabel='TheData'>"
      ]
     },
     "execution_count": 4,
     "metadata": {},
     "output_type": "execute_result"
    },
    {
     "data": {
      "image/png": "[encoded data removed]",
      "text/plain": [
       "<Figure size 432x288 with 1 Axes>"
      ]
     },
     "metadata": {
      "needs_background": "light"
     },
     "output_type": "display_data"
    }
   ],
   "source": [
    "sns.boxplot(data=df, hue=\"Group\", y=\"TheData\", x='TimePoint');"
   ]
  }
 ],
 "metadata": {
  "kernelspec": {
   "display_name": "Python 3 (ipykernel)",
   "language": "python",
   "name": "python3"
  },
  "language_info": {
   "codemirror_mode": {
    "name": "ipython",
    "version": 3
   },
   "file_extension": ".py",
   "mimetype": "text/x-python",
   "name": "python",
   "nbconvert_exporter": "python",
   "pygments_lexer": "ipython3",
   "version": "3.8.12"
  },
  "varInspector": {
   "cols": {
    "lenName": 16,
    "lenType": 16,
    "lenVar": 40
   },
   "kernels_config": {
    "python": {
     "delete_cmd_postfix": "",
     "delete_cmd_prefix": "del ",
     "library": "var_list.py",
     "varRefreshCmd": "print(var_dic_list())"
    },
    "r": {
     "delete_cmd_postfix": ") ",
     "delete_cmd_prefix": "rm(",
     "library": "var_list.r",
     "varRefreshCmd": "cat(var_dic_list()) "
    }
   },
   "types_to_exclude": [
    "module",
    "function",
    "builtin_function_or_method",
    "instance",
    "_Feature"
   ],
   "window_display": false
  }
 },
 "nbformat": 4,
 "nbformat_minor": 2
}
